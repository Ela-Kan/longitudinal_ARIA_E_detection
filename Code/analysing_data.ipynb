{
 "cells": [
  {
   "cell_type": "markdown",
   "metadata": {},
   "source": [
    "# Running the Whole Longitudinal ARIA-E Analysis Pipeline"
   ]
  },
  {
   "cell_type": "code",
   "execution_count": 1,
   "metadata": {},
   "outputs": [],
   "source": [
    "import numpy as np\n",
    "import os\n",
    "import pandas as pd\n",
    "import shutil\n",
    "import nipype.interfaces.fsl as fsl\n",
    "import matplotlib.pyplot as plt\n",
    "from pathlib import Path\n",
    "import nibabel as nib\n",
    "from intensity_normalization.typing import Modality\n",
    "from intensity_normalization.normalize.nyul import NyulNormalize\n",
    "from intensity_normalization.plot.histogram import HistogramPlotter\n",
    "\n",
    "# import my own helper modules\n",
    "import Registration as rg \n",
    "import Process3DFLAIR as p3df\n",
    "import ZscoreClustering as zc"
   ]
  },
  {
   "cell_type": "markdown",
   "metadata": {},
   "source": [
    "### Run the preprocessing pipeline and generate the maps for the subject"
   ]
  },
  {
   "cell_type": "code",
   "execution_count": 7,
   "metadata": {},
   "outputs": [
    {
     "name": "stdout",
     "output_type": "stream",
     "text": [
      "   Subject_ID  Time_Points\n",
      "0  B-RAP_0027            7\n",
      "1  B-RAP_0100            5\n",
      "2  B-RAP_0028            3\n",
      "Analysing subject: B-RAP_0100\n",
      "Computed Z-Score map\n"
     ]
    }
   ],
   "source": [
    "# open the subject info table and turn into pd dataframe\n",
    "subject_info_df = pd.read_csv('~/Documents/MRes_Project/subject_info.csv')\n",
    "print(subject_info_df) # print current subject info\n",
    "\n",
    "# select the subject/s to be processed (set this just to loop through all if that's what we want)\n",
    "sp = [1]\n",
    "\n",
    "for i in range(0, len(sp)):\n",
    "    # select patient ID and number of time points in the sequences\n",
    "    test_subject_id = subject_info_df.Subject_ID[sp[i]]\n",
    "    test_total_num_time_points = subject_info_df.Time_Points[sp[i]]\n",
    "\n",
    "    # select the time points we want to consider in analysis\n",
    "    test_time_points_to_consider = list(range(1, test_total_num_time_points + 1))\n",
    "\n",
    "    # define the type of registration we'd like to use\n",
    "    registration_method = 'affinefsl'\n",
    "\n",
    "    # we don't want to normalise across all patients\n",
    "    inter_subject = False\n",
    "\n",
    "    #  initialise a preprocess pipeline based on the test subject\n",
    "    testProcess3DFLAIR = p3df.Process3DFLAIR(subject_info_df, test_subject_id, test_total_num_time_points, test_time_points_to_consider, registration_method, inter_subject) \n",
    "\n",
    "    # compute the Z-score map for the variance\n",
    "    z_score_in_file = f\"/home/ela/Documents/B-RAPIDD/{test_subject_id}/3D-FLAIR/variance_maps/{test_subject_id}_var.nii.gz\" # variance\n",
    "    z_score_out_file = f\"/home/ela/Documents/B-RAPIDD/{test_subject_id}/3D-FLAIR/z_score_maps/variance/z_score_map.nii.gz\" # variance \n",
    "    log_map = True # we need to take the log of the variance maps to make it more 'normal'\n",
    "    testProcess3DFLAIR.calcZScoreMap(z_score_in_file, z_score_out_file, log_map)\n"
   ]
  },
  {
   "cell_type": "markdown",
   "metadata": {},
   "source": [
    "### Run the clustering on the Z-score map"
   ]
  },
  {
   "cell_type": "code",
   "execution_count": 15,
   "metadata": {},
   "outputs": [
    {
     "data": {
      "image/png": "[encoded data removed]",
      "text/plain": [
       "<Figure size 640x480 with 1 Axes>"
      ]
     },
     "metadata": {},
     "output_type": "display_data"
    },
    {
     "name": "stdout",
     "output_type": "stream",
     "text": [
      "95th Percentile of Z-score Map: \n",
      "1.6831333251872098\n",
      "Z-score map clustered.\n",
      "Clusters filtered.\n",
      "Adjusted intensity thresholded cluster map saved.\n",
      "Clusters thresholded at 10 voxels\n"
     ]
    }
   ],
   "source": [
    "# load in the z-score map for the most obvious subject\n",
    "\n",
    "z_score_map_file = f\"/home/ela/Documents/B-RAPIDD/{test_subject_id}/3D-FLAIR/z_score_maps/variance/z_score_map.nii.gz\" # variance \n",
    "z_score_map = nib.load(z_score_map_file).get_fdata()\n",
    "z_score_map_flat = z_score_map.flatten()\n",
    "\n",
    "# ignoring, the background, plot the histogram of the z-score map and find the 95th percentile\n",
    "brain_mask_file = f\"/home/ela/Documents/B-RAPIDD/{test_subject_id}/3D-FLAIR/brain_nifti/masks/{test_subject_id}_0{test_total_num_time_points}_D1.nii\"\n",
    "brain_mask = nib.load(brain_mask_file)\n",
    "brain_mask_flat = brain_mask.get_fdata().flatten()\n",
    "\n",
    "# plot the histogram of the z-score map, ignoring the brain_mask\n",
    "z_score_map_brain_only = z_score_map_flat[brain_mask_flat > 0]\n",
    "plt.hist(z_score_map_brain_only, bins=100)\n",
    "plt.show()\n",
    "\n",
    "# find the 95th percentile of the z-score map\n",
    "z_score_map_95th_percentile = np.percentile(z_score_map_brain_only, 95)\n",
    "\n",
    "print('95th Percentile of Z-score Map: ')\n",
    "print(z_score_map_95th_percentile)\n",
    "\n",
    "# run the clustering pipeline\n",
    "testZscoreClustering = zc.ZscoreClustering()\n",
    "cluster_info_out_file = f\"/home/ela/Documents/B-RAPIDD/{test_subject_id}/3D-FLAIR/z_score_maps/variance/clusters/cluster_info.txt\"\n",
    "cluster_out_file = f\"/home/ela/Documents/B-RAPIDD/{test_subject_id}/3D-FLAIR/z_score_maps/variance/clusters/raw_clusters.nii.gz\"\n",
    "threshold = z_score_map_95th_percentile\n",
    "testZscoreClustering.clusterZscore(z_score_map_file, cluster_info_out_file, cluster_out_file, threshold)\n",
    "\n",
    "# filter clusters so only those above 10 voxels are retained\n",
    "thresholded_cluster_map_file = f\"/home/ela/Documents/B-RAPIDD/{test_subject_id}/3D-FLAIR/z_score_maps/variance/clusters/thresholded_clusters.nii.gz\"\n",
    "adjusted_intensity_thresholded_cluster_map_file = f\"/home/ela/Documents/B-RAPIDD/{test_subject_id}/3D-FLAIR/z_score_maps/variance/clusters/adjusted_intesity_thresholded_clusters.nii.gz\"\n",
    "testZscoreClustering.filterClusters(cluster_out_file, cluster_info_out_file, thresholded_cluster_map_file, adjusted_intensity_thresholded_cluster_map_file)\n",
    "\n",
    "print(\"Clusters thresholded at 10 voxels\")"
   ]
  },
  {
   "cell_type": "code",
   "execution_count": null,
   "metadata": {},
   "outputs": [],
   "source": []
  }
 ],
 "metadata": {
  "kernelspec": {
   "display_name": "Python 3",
   "language": "python",
   "name": "python3"
  },
  "language_info": {
   "codemirror_mode": {
    "name": "ipython",
    "version": 3
   },
   "file_extension": ".py",
   "mimetype": "text/x-python",
   "name": "python",
   "nbconvert_exporter": "python",
   "pygments_lexer": "ipython3",
   "version": "3.11.4"
  }
 },
 "nbformat": 4,
 "nbformat_minor": 2
}
